{
  "nbformat": 4,
  "nbformat_minor": 0,
  "metadata": {
    "colab": {
      "provenance": [],
      "authorship_tag": "ABX9TyNERBLHLtGZgi8ghwXz62u6",
      "include_colab_link": true
    },
    "kernelspec": {
      "name": "python3",
      "display_name": "Python 3"
    },
    "language_info": {
      "name": "python"
    }
  },
  "cells": [
    {
      "cell_type": "markdown",
      "metadata": {
        "id": "view-in-github",
        "colab_type": "text"
      },
      "source": [
        "<a href=\"https://colab.research.google.com/github/DevaGanesh78/Data-science-/blob/main/Untitled0.ipynb\" target=\"_parent\"><img src=\"https://colab.research.google.com/assets/colab-badge.svg\" alt=\"Open In Colab\"/></a>"
      ]
    },
    {
      "cell_type": "code",
      "execution_count": null,
      "metadata": {
        "colab": {
          "base_uri": "https://localhost:8080/"
        },
        "id": "aye2NyhBjiVr",
        "outputId": "8dedaa0f-a0f8-4c27-ddcc-2ac7590aae1a"
      },
      "outputs": [
        {
          "output_type": "stream",
          "name": "stdout",
          "text": [
            "hello\n"
          ]
        }
      ],
      "source": [
        "print(\"hello\")"
      ]
    },
    {
      "cell_type": "code",
      "source": [
        "customer_name=\"deva\"\n",
        "customer_age=18\n",
        "customer_balance=250\n",
        "print(\"customer:\",customer_name)\n",
        "print(\"age:\",customer_age)\n",
        "print(\"balance:\",customer_balance)"
      ],
      "metadata": {
        "colab": {
          "base_uri": "https://localhost:8080/"
        },
        "id": "5mwRSoWylEPt",
        "outputId": "b59a182d-daba-41c5-9b90-3190857b1ec5"
      },
      "execution_count": null,
      "outputs": [
        {
          "output_type": "stream",
          "name": "stdout",
          "text": [
            "customer: deva\n",
            "age: 18\n",
            "balance: 250\n"
          ]
        }
      ]
    },
    {
      "cell_type": "code",
      "source": [
        "product_price=450\n",
        "discount=product_price*0.97\n",
        "final_price=product_price-discount\n",
        "print(\"final price after discount:\",final_price)"
      ],
      "metadata": {
        "colab": {
          "base_uri": "https://localhost:8080/"
        },
        "id": "Fz60mdVSo238",
        "outputId": "9a2e11c3-1e68-4800-febd-f2ec3d3cc589"
      },
      "execution_count": null,
      "outputs": [
        {
          "output_type": "stream",
          "name": "stdout",
          "text": [
            "final price after discount: 13.5\n"
          ]
        }
      ]
    },
    {
      "cell_type": "code",
      "source": [
        "import numpy as np\n",
        "sales=np.array([10,3,4,5,69])\n",
        "print(\"sales:\",sales)"
      ],
      "metadata": {
        "colab": {
          "base_uri": "https://localhost:8080/"
        },
        "id": "6CpmRNbGrSyU",
        "outputId": "089b0f54-8273-422d-ede2-0946fd95f0c1"
      },
      "execution_count": null,
      "outputs": [
        {
          "output_type": "stream",
          "name": "stdout",
          "text": [
            "sales: [10  3  4  5 69]\n"
          ]
        }
      ]
    },
    {
      "cell_type": "code",
      "source": [
        "print(\"average sales:\",np.mean(sales))\n",
        "print(\"highest sales:\",np.max(sales))\n",
        "print(\"lowest sales:\",np.min(sales))"
      ],
      "metadata": {
        "colab": {
          "base_uri": "https://localhost:8080/"
        },
        "id": "J1MWCrD6sQ7a",
        "outputId": "7708d5ce-dab3-40d3-de8f-a80c352948f8"
      },
      "execution_count": null,
      "outputs": [
        {
          "output_type": "stream",
          "name": "stdout",
          "text": [
            "average sales: 18.2\n",
            "highest sales: 69\n",
            "lowest sales: 3\n"
          ]
        }
      ]
    }
  ]
}